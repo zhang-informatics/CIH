{
  "nbformat": 4,
  "nbformat_minor": 0,
  "metadata": {
    "colab": {
      "provenance": [],
      "collapsed_sections": [
        "kx7y440wCFQF",
        "-o3GDd9rDdD2"
      ],
      "gpuType": "V100"
    },
    "kernelspec": {
      "name": "python3",
      "display_name": "Python 3"
    },
    "language_info": {
      "name": "python"
    },
    "accelerator": "GPU"
  },
  "cells": [
    {
      "cell_type": "code",
      "source": [
        "import pandas as pd\n",
        "import numpy as np\n",
        "import json\n",
        "from collections import defaultdict\n",
        "\n",
        "import os\n",
        "import re\n",
        "from nltk import word_tokenize\n",
        "\n",
        "import torch\n",
        "from torch import nn\n",
        "from torch.utils.data import Dataset\n",
        "from torch.utils.data import DataLoader\n",
        "device = torch.device(\"cuda:0\" if torch.cuda.is_available() else \"cpu\")\n",
        "from transformers import BertTokenizer,BertForTokenClassification\n",
        "from sklearn.model_selection import train_test_split"
      ],
      "metadata": {
        "id": "EzilX3CAB3vt"
      },
      "execution_count": null,
      "outputs": []
    },
    {
      "cell_type": "code",
      "source": [
        "labels=['B-CAM_therapies','B-Energy_therapies',\n",
        " 'B-Manual_bodybased_therapies','B-Mindbody_therapies',\n",
        " 'B-Usual_Medical_Care','I-CAM_therapies',\n",
        " 'I-Energy_therapies','I-Manual_bodybased_therapies',\n",
        " 'I-Mindbody_therapies','I-Usual_Medical_Care','O']\n",
        "\n",
        "indexes=[i for i in range(len(labels))]\n",
        "label_to_ids={}\n",
        "ids_to_label={}\n",
        "for id,label in zip(indexes,labels):\n",
        "  label_to_ids[label]=id\n",
        "  ids_to_label[id]=label\n",
        "print(label_to_ids)\n",
        "print(ids_to_label)"
      ],
      "metadata": {
        "colab": {
          "base_uri": "https://localhost:8080/"
        },
        "id": "h76Vg8umB8VP",
        "outputId": "120569d4-68dc-492a-b84a-2d9447d8e2fa"
      },
      "execution_count": null,
      "outputs": [
        {
          "output_type": "stream",
          "name": "stdout",
          "text": [
            "{'B-CAM_therapies': 0, 'B-Energy_therapies': 1, 'B-Manual_bodybased_therapies': 2, 'B-Mindbody_therapies': 3, 'B-Usual_Medical_Care': 4, 'I-CAM_therapies': 5, 'I-Energy_therapies': 6, 'I-Manual_bodybased_therapies': 7, 'I-Mindbody_therapies': 8, 'I-Usual_Medical_Care': 9, 'O': 10}\n",
            "{0: 'B-CAM_therapies', 1: 'B-Energy_therapies', 2: 'B-Manual_bodybased_therapies', 3: 'B-Mindbody_therapies', 4: 'B-Usual_Medical_Care', 5: 'I-CAM_therapies', 6: 'I-Energy_therapies', 7: 'I-Manual_bodybased_therapies', 8: 'I-Mindbody_therapies', 9: 'I-Usual_Medical_Care', 10: 'O'}\n"
          ]
        }
      ]
    },
    {
      "cell_type": "code",
      "source": [],
      "metadata": {
        "id": "p7JJoQ08B9vF"
      },
      "execution_count": null,
      "outputs": []
    },
    {
      "cell_type": "markdown",
      "source": [
        "#LOAD DATA"
      ],
      "metadata": {
        "id": "7E1MAma2CRbk"
      }
    },
    {
      "cell_type": "code",
      "source": [
        "##===================================================##\n",
        "##              CAM data preprocessing               ##\n",
        "##===================================================##\n",
        "def fla_list(list_):\n",
        "  fla_tag=[]\n",
        "  for row in list_:\n",
        "    tags=row[1]\n",
        "    for t in tags:\n",
        "      fla_tag.append(t)\n",
        "  return fla_tag"
      ],
      "metadata": {
        "id": "_SiuT5wjCr_Z"
      },
      "execution_count": null,
      "outputs": []
    },
    {
      "cell_type": "code",
      "source": [
        "##===================================================##\n",
        "##              Load saved Data                      ##\n",
        "##===================================================##\n",
        "import pandas as pd\n",
        "Train_data=[]\n",
        "Valid_data=[]\n",
        "Test_data=[]\n",
        "\n",
        "dir_path='/content/drive/MyDrive/CAM_NER_RE_Project/processed data/NER_data/'\n",
        "df_train=pd.read_csv(dir_path+'CAM_train.csv')\n",
        "df_valid=pd.read_csv(dir_path+'CAM_valid.csv')\n",
        "df_test=pd.read_csv(dir_path+'CAM_test.csv')\n",
        "\n",
        "\n",
        "for w,t in zip(df_train['words'],df_train['labels']):\n",
        "  words=w.split(' ')\n",
        "  tags=t.split(' ')\n",
        "  Train_data.append([words,tags])\n",
        "\n",
        "for w,t in zip(df_valid['words'],df_valid['labels']):\n",
        "  words=w.split(' ')\n",
        "  tags=t.split(' ')\n",
        "  Valid_data.append([words,tags])\n",
        "\n",
        "for w,t in zip(df_test['words'],df_test['labels']):\n",
        "  words=w.split(' ')\n",
        "  tags=t.split(' ')\n",
        "  Test_data.append([words,tags])"
      ],
      "metadata": {
        "id": "uemF776yCRAg"
      },
      "execution_count": null,
      "outputs": []
    },
    {
      "cell_type": "code",
      "source": [
        "unique_tag=labels\n",
        "print(\"train data summary ---------------\")\n",
        "print(\"num sentence:\",len(Train_data))\n",
        "train_tags=fla_list(Train_data)\n",
        "for tag in unique_tag:\n",
        "  print(tag,train_tags.count(tag))\n",
        "\n",
        "print(\"test data summary ---------------\")\n",
        "print(\"num sentence:\",len(Test_data))\n",
        "test_tags=fla_list(Test_data)\n",
        "for tag in unique_tag:\n",
        "  print(tag,test_tags.count(tag))\n",
        "\n",
        "print(\"valid data summary ---------------\")\n",
        "print(\"num sentence:\",len(Valid_data))\n",
        "valid_tags=fla_list(Valid_data)\n",
        "for tag in unique_tag:\n",
        "  print(tag,valid_tags.count(tag))\n",
        "# total number of abstracts: 260\n",
        "all_data=Train_data+Test_data+Valid_data\n",
        "print(\"all data summary ---------------\")\n",
        "print(\"num sentence:\",len(all_data))\n",
        "all_tags=fla_list(all_data)\n",
        "for tag in unique_tag:\n",
        "  print(tag,all_tags.count(tag))"
      ],
      "metadata": {
        "colab": {
          "base_uri": "https://localhost:8080/"
        },
        "id": "d0gmiiNxC9Wr",
        "outputId": "04992b7e-bd6b-4cff-83c5-de81f8c1b092"
      },
      "execution_count": null,
      "outputs": [
        {
          "output_type": "stream",
          "name": "stdout",
          "text": [
            "train data summary ---------------\n",
            "num sentence: 4041\n",
            "B-CAM_therapies 121\n",
            "B-Energy_therapies 356\n",
            "B-Manual_bodybased_therapies 281\n",
            "B-Mindbody_therapies 376\n",
            "B-Usual_Medical_Care 288\n",
            "I-CAM_therapies 109\n",
            "I-Energy_therapies 291\n",
            "I-Manual_bodybased_therapies 185\n",
            "I-Mindbody_therapies 277\n",
            "I-Usual_Medical_Care 225\n",
            "O 63609\n",
            "test data summary ---------------\n",
            "num sentence: 2526\n",
            "B-CAM_therapies 78\n",
            "B-Energy_therapies 213\n",
            "B-Manual_bodybased_therapies 187\n",
            "B-Mindbody_therapies 245\n",
            "B-Usual_Medical_Care 180\n",
            "I-CAM_therapies 67\n",
            "I-Energy_therapies 152\n",
            "I-Manual_bodybased_therapies 135\n",
            "I-Mindbody_therapies 159\n",
            "I-Usual_Medical_Care 138\n",
            "O 39859\n",
            "valid data summary ---------------\n",
            "num sentence: 2526\n",
            "B-CAM_therapies 84\n",
            "B-Energy_therapies 240\n",
            "B-Manual_bodybased_therapies 166\n",
            "B-Mindbody_therapies 233\n",
            "B-Usual_Medical_Care 177\n",
            "I-CAM_therapies 70\n",
            "I-Energy_therapies 211\n",
            "I-Manual_bodybased_therapies 97\n",
            "I-Mindbody_therapies 184\n",
            "I-Usual_Medical_Care 134\n",
            "O 39608\n",
            "all data summary ---------------\n",
            "num sentence: 9093\n",
            "B-CAM_therapies 283\n",
            "B-Energy_therapies 809\n",
            "B-Manual_bodybased_therapies 634\n",
            "B-Mindbody_therapies 854\n",
            "B-Usual_Medical_Care 645\n",
            "I-CAM_therapies 246\n",
            "I-Energy_therapies 654\n",
            "I-Manual_bodybased_therapies 417\n",
            "I-Mindbody_therapies 620\n",
            "I-Usual_Medical_Care 497\n",
            "O 143076\n"
          ]
        }
      ]
    },
    {
      "cell_type": "code",
      "source": [
        "def tokenize_and_preserve_labels(sentence, text_labels, tokenizer):\n",
        "    \"\"\"\n",
        "    Word piece tokenization makes it difficult to match word labels\n",
        "    back up with individual word pieces. This function tokenizes each\n",
        "    word one at a time so that it is easier to preserve the correct\n",
        "    label for each subword. It is, of course, a bit slower in processing\n",
        "    time, but it will help our model achieve higher accuracy.\n",
        "    \"\"\"\n",
        "\n",
        "    tokenized_sentence = []\n",
        "    labels = []\n",
        "\n",
        "    #     print('##')\n",
        "    #     print(sentence)\n",
        "    #     print(text_labels)\n",
        "    #     print('###')\n",
        "    for word, label in zip(sentence, text_labels):\n",
        "        # Tokenize the word and count # of subwords the word is broken into\n",
        "        tokenized_word = tokenizer.tokenize(word)\n",
        "        n_subwords = len(tokenized_word)\n",
        "\n",
        "        ## if sentence consist of more than 125 words, discard the later words.\n",
        "        if (len(tokenized_sentence) >= 125):\n",
        "            return tokenized_sentence, labels\n",
        "        # Add the tokenized word to the final tokenized word list\n",
        "        tokenized_sentence.extend(tokenized_word)\n",
        "\n",
        "        # Add the same label to the new list of labels `n_subwords` times\n",
        "        labels.extend([label] * n_subwords)\n",
        "\n",
        "    return tokenized_sentence, labels"
      ],
      "metadata": {
        "id": "QPYsnf9OFyBD"
      },
      "execution_count": null,
      "outputs": []
    },
    {
      "cell_type": "code",
      "source": [
        "##===================================================##\n",
        "##              CAM data loader                      ##\n",
        "##===================================================##\n",
        "class Ner_CAM_Data(Dataset):\n",
        "\n",
        "    def __init__(self, data):\n",
        "        self.data = data\n",
        "#         print(\"dataloader initialized\")\n",
        "\n",
        "\n",
        "    def __len__(self):\n",
        "        return len(self.data)\n",
        "\n",
        "    def __getitem__(self, idx):\n",
        "        #print(idx)\n",
        "        sentence = self.data[idx][0]\n",
        "        word_labels = self.data[idx][1]\n",
        "\n",
        "\n",
        "        t_sen, t_labl = tokenize_and_preserve_labels(sentence, word_labels, tokenizer)\n",
        "\n",
        "        sen_code = tokenizer.encode_plus(t_sen,\n",
        "            add_special_tokens=True,  # Add [CLS] and [SEP]\n",
        "            max_length = 128,  # maximum length of a sentence\n",
        "            #pad_to_max_length=True,  # Add [PAD]s\n",
        "            padding='max_length',\n",
        "            return_attention_mask = True,  # Generate the attention mask\n",
        "#             return_tensors = 'pt'\n",
        "            )\n",
        "\n",
        "\n",
        "        labels = [-100]*128\n",
        "        for i, tok in enumerate(t_labl):\n",
        "\n",
        "            if label_to_ids.get(tok) != None:\n",
        "                labels[i+1]=label_to_ids.get(tok)\n",
        "\n",
        "        # step 4: turn everything into PyTorch tensors\n",
        "        item = {key: torch.as_tensor(val) for key, val in sen_code.items()}\n",
        "        item['labels'] = torch.as_tensor(labels)\n",
        "        #item['sentece']=sentence\n",
        "\n",
        "        return item"
      ],
      "metadata": {
        "id": "tMLvR8jmDAi1"
      },
      "execution_count": null,
      "outputs": []
    },
    {
      "cell_type": "code",
      "source": [
        "CAM_train_data=Ner_CAM_Data(Train_data)\n",
        "CAM_valid_data=Ner_CAM_Data(Valid_data)\n",
        "CAM_test_data=Ner_CAM_Data(Test_data)\n",
        "\n",
        "train_dataloader = DataLoader(CAM_train_data, batch_size=16, shuffle=False)\n",
        "valid_dataloader = DataLoader(CAM_valid_data, batch_size=16, shuffle=False)\n",
        "test_dataloader = DataLoader(CAM_test_data, batch_size=16, shuffle=False)"
      ],
      "metadata": {
        "id": "yPFPXAJcDCgG"
      },
      "execution_count": null,
      "outputs": []
    },
    {
      "cell_type": "markdown",
      "source": [
        "# test metrics"
      ],
      "metadata": {
        "id": "wAR0ueCoDJzE"
      }
    },
    {
      "cell_type": "code",
      "source": [
        "import re\n",
        "import numpy as np\n",
        "from collections import defaultdict\n",
        "TNE = \"this_tag_does_not_exists\"\n",
        "def self_classifcation_report(tags_true: list, tags_pred: list, mode=\"lenient\", scheme=\"IOB2\", verbose=False) -> dict:\n",
        "    \"\"\"caculate lenient matching score, including F1-score, precision, and recall\n",
        "\n",
        "    Args:\n",
        "        tags_true (list): true tags\n",
        "        tags_pred (list): predicted tags\n",
        "        mode (str, optional): matching model, strict or lenient. Defaults to \"lenient\".\n",
        "        scheme (str, optional): annotation scheme, currently only support IOB2\n",
        "\n",
        "    Returns:\n",
        "        dict: return metrics as a dict\n",
        "    \"\"\"\n",
        "    tags_true = [r+\"-default\" if r in ['B', 'I'] else r for r in tags_true ]\n",
        "    tags_pred = [r+\"-default\" if r in ['B', 'I'] else r for r in tags_pred ]\n",
        "\n",
        "    assert scheme in ['IOB2'] # sanity check\n",
        "\n",
        "    predict, truth, matched = defaultdict(lambda: 0.), defaultdict(lambda: 0.), defaultdict(lambda: 0.)\n",
        "\n",
        "    cur_matching_tag = TNE  # auxiliary variable for lenient matching\n",
        "    start_matching = TNE # auxiliary variable for strict matching\n",
        "    cur_matching_tag_pred = TNE\n",
        "    for t, p in zip(tags_true, tags_pred):\n",
        "        ## get the total ground truth number, will be used for recall calculation\n",
        "        if re.match(\"^(B-)\", t):\n",
        "            truth[re.sub(\"(B-)\", \"\", t)] += 1\n",
        "            cur_matching_tag = re.sub(\"(B-)\", \"\", t)\n",
        "        elif re.match(\"^I-\", t) and cur_matching_tag in t: #! continue matching\n",
        "            pass\n",
        "        else: #! abort\n",
        "            cur_matching_tag = TNE\n",
        "\n",
        "        ## get the total prediction number, will be used for precision calculation\n",
        "        if re.match(\"^(B-)\", p):\n",
        "            predict[re.sub(\"(B-)\", \"\", p)] += 1\n",
        "            cur_matching_tag_pred = re.sub(\"(B-)\", \"\", p)\n",
        "        elif re.match(\"^(I-)\", p) and cur_matching_tag_pred in p:\n",
        "            pass\n",
        "        else:\n",
        "            cur_matching_tag_pred = TNE\n",
        "\n",
        "        if mode == \"lenient\":\n",
        "            if cur_matching_tag != TNE and cur_matching_tag == cur_matching_tag_pred:\n",
        "                matched[cur_matching_tag] += 1\n",
        "                cur_matching_tag_pred, cur_matching_tag = TNE, TNE\n",
        "\n",
        "        elif mode == \"strict\":\n",
        "            ## get the true positives (strict)\n",
        "            if p == t and re.match(\"^(B-)\", t):\n",
        "                if start_matching != TNE: ## case: B_entity1 is adjcent to B_entity2 (two entities can be the same)\n",
        "                    matched[start_matching] += 1\n",
        "                start_matching = re.sub(\"(B-)\", \"\", t)\n",
        "            elif p == t and re.match(\"^(I-)\", t) and start_matching in t:\n",
        "                pass\n",
        "            elif t != \"I-\"+start_matching and p != \"I-\"+start_matching and start_matching != TNE:\n",
        "                matched[start_matching] += 1\n",
        "                start_matching = TNE\n",
        "            else: #! matching failed\n",
        "                start_matching = TNE\n",
        "        else:\n",
        "            exit(\"only support strict or lenient mode, please check your input argument\")\n",
        "    matched[start_matching] = matched[start_matching]+1 if start_matching != TNE and mode == \"strict\" else matched[start_matching]\n",
        "\n",
        "\n",
        "    ## calucalte metrics: precision, recall, F1-score\n",
        "    unique_entities = [re.sub(\"B-\", \"\", x) for x in set(tags_true) if re.match(\"^B-\", x)]\n",
        "\n",
        "    metrics = defaultdict(lambda: defaultdict(lambda: 0))\n",
        "\n",
        "    precision_per_class=[]\n",
        "    recall_per_class=[]\n",
        "    f1_score_per_class=[]\n",
        "\n",
        "    tp_per_class=[]\n",
        "    num_labels_per_class=[]\n",
        "    num_predictions_per_class=[]\n",
        "\n",
        "    for ue in unique_entities:\n",
        "        metrics[ue][f'precision'] = matched[ue]/predict[ue] if predict[ue] > 0 else 0\n",
        "        metrics[ue][f'recall'] = matched[ue]/truth[ue] if truth[ue] > 0 else 0\n",
        "        metrics[ue][f'f1-score'] = (2*metrics[ue]['precision']*metrics[ue]['recall'])/(metrics[ue]['precision']+metrics[ue]['recall']) if (metrics[ue]['precision']+metrics[ue]['recall'] > 0) else 0\n",
        "\n",
        "        precision_per_class.append(metrics[ue][f'precision'])\n",
        "        recall_per_class.append(metrics[ue][f'recall'])\n",
        "        f1_score_per_class.append(metrics[ue][f'f1-score'])\n",
        "        tp_per_class.append(matched[ue])\n",
        "        num_labels_per_class.append(truth[ue])\n",
        "        num_predictions_per_class.append(predict[ue])\n",
        "\n",
        "        if verbose:\n",
        "            print(f\"tag: {ue} \\t precision:{metrics[ue]['precision']} \\t recall:{metrics[ue]['recall']} \\t f1-score:{metrics[ue]['f1-score']}\")\n",
        "\n",
        "    macro_precision = sum(precision_per_class) / len(precision_per_class)\n",
        "    macro_recall = sum(recall_per_class) / len(recall_per_class)\n",
        "    macro_f1 = sum(f1_score_per_class) / len(f1_score_per_class)\n",
        "    print(f\"macro precision:{macro_precision}\\n\")\n",
        "    print(f\"macro recall: {macro_recall}\\n\")\n",
        "    print(f\"macro f1:{macro_f1}\\n\")\n",
        "    metrics['macro_precision']=macro_precision\n",
        "    metrics['macro_recall']=macro_recall\n",
        "    metrics['macro_f1']=macro_f1\n",
        "\n",
        "    micro_precision = sum(tp_per_class) / sum(num_predictions_per_class)\n",
        "    micro_recall = sum(tp_per_class) / sum(num_labels_per_class)\n",
        "    micro_f1 = 2 * (micro_precision * micro_recall) / (micro_precision + micro_recall)\n",
        "    print(f\"micro precision:{micro_precision}\\n\")\n",
        "    print(f\"micro recall: {micro_recall}\\n\")\n",
        "    print(f\"micro f1:{micro_f1}\\n\")\n",
        "    metrics['micro_precision']=micro_precision\n",
        "    metrics['micro_recall']=micro_recall\n",
        "    metrics['micro_f1']=micro_f1\n",
        "\n",
        "    return metrics"
      ],
      "metadata": {
        "id": "gBfgSm_PDI3d"
      },
      "execution_count": null,
      "outputs": []
    },
    {
      "cell_type": "code",
      "source": [
        "from sklearn.metrics import accuracy_score\n",
        "import time\n",
        "\n",
        "def valid_loop(model, testing_loader,self_classifcation_report):\n",
        "    model.eval()\n",
        "    eval_loss, eval_accuracy = 0, 0\n",
        "    nb_eval_examples, nb_eval_steps = 0, 0\n",
        "    eval_preds, eval_labels = [], []\n",
        "    sent_label_predict=[]\n",
        "    with torch.no_grad():\n",
        "        for idx, batch in enumerate(testing_loader):\n",
        "\n",
        "            ids = batch['input_ids'].to(device, dtype = torch.long)\n",
        "            mask = batch['attention_mask'].to(device, dtype = torch.long)\n",
        "            labels = batch['labels'].to(device, dtype = torch.long)\n",
        "            #sentences=batch['sentece']\n",
        "            preds= model(input_ids=ids, attention_mask=mask, labels=labels)\n",
        "\n",
        "            loss = preds['loss']\n",
        "            eval_logits = preds['logits']\n",
        "\n",
        "            eval_loss += loss.item()\n",
        "\n",
        "            nb_eval_steps += 1\n",
        "            nb_eval_examples += labels.size(0)\n",
        "\n",
        "            if idx % 100==0:\n",
        "                loss_step = eval_loss/nb_eval_steps\n",
        "                print(f\"Validation loss per 100 evaluation steps: {loss_step}\")\n",
        "\n",
        "            # compute evaluation accuracy\n",
        "            flattened_targets = labels.view(-1) # shape (batch_size * seq_len,)\n",
        "            active_logits = eval_logits.view(-1, model.num_labels) # shape (batch_size * seq_len, num_labels)\n",
        "            flattened_predictions = torch.argmax(active_logits, axis=1) # shape (batch_size * seq_len,)\n",
        "            sent_label_predict.append([ids,labels,flattened_predictions])\n",
        "\n",
        "            # only compute accuracy at active labels\n",
        "            active_accuracy = labels.view(-1) != -100 # shape (batch_size, seq_len)\n",
        "\n",
        "            labels = torch.masked_select(flattened_targets, active_accuracy)\n",
        "            predictions = torch.masked_select(flattened_predictions, active_accuracy)\n",
        "            #if idx==1:\n",
        "            #  print('eval_logits:',torch.Tensor.size(eval_logits),'\\n',eval_logits)\n",
        "             # print('active_logits:',torch.Tensor.size(eval_logits),'\\n',active_logits)\n",
        "              #print('flattened_predictions:',torch.Tensor.size(eval_logits),'\\n',flattened_predictions)\n",
        "\n",
        "            label_text=[ids_to_label[id.item()] for id in labels]\n",
        "            predictions_text=[ids_to_label[id.item()] for id in predictions]\n",
        "\n",
        "\n",
        "            eval_labels.extend(labels)\n",
        "            eval_preds.extend(predictions)\n",
        "\n",
        "            tmp_eval_accuracy = accuracy_score(labels.cpu().numpy(), predictions.cpu().numpy())\n",
        "            eval_accuracy += tmp_eval_accuracy\n",
        "\n",
        "    labels = [ids_to_label[id.item()] for id in eval_labels]\n",
        "    predictions = [ids_to_label[id.item()] for id in eval_preds]\n",
        "\n",
        "    eval_loss = eval_loss / nb_eval_steps\n",
        "    eval_accuracy = eval_accuracy / nb_eval_steps\n",
        "    #print(f\"Validation Loss: {eval_loss}\")\n",
        "    #print(f\"Validation Accuracy: {eval_accuracy}\")\n",
        "\n",
        "    #print(\"self define metrics:\\n\")\n",
        "    #print('strict:')\n",
        "    #print(self_classifcation_report(labels, predictions, mode='strict'))\n",
        "    #print('lenient:')\n",
        "    #print(self_classifcation_report(labels, predictions, mode='lenient'))\n",
        "\n",
        "\n",
        "    return eval_loss,labels, predictions,sent_label_predict"
      ],
      "metadata": {
        "id": "Ob0cXsnvDgvH"
      },
      "execution_count": null,
      "outputs": []
    },
    {
      "cell_type": "markdown",
      "source": [
        "#BERT base"
      ],
      "metadata": {
        "id": "kx7y440wCFQF"
      }
    },
    {
      "cell_type": "code",
      "source": [
        "ROOT=''"
      ],
      "metadata": {
        "id": "b87mvJgKIftR"
      },
      "execution_count": null,
      "outputs": []
    },
    {
      "cell_type": "code",
      "source": [
        "tokenizer = BertTokenizer.from_pretrained('bert-base-uncased',use_fast=False)\n",
        "tokenizer.add_tokens(['B-CAM_therapies','B-Energy_therapies',\n",
        " 'B-Manual_bodybased_therapies','B-Mindbody_therapies',\n",
        " 'B-Usual_Medical_Care','I-CAM_therapies'\n",
        " 'I-Energy_therapies','I-Manual_bodybased_therapies',\n",
        " 'I-Mindbody_therapies','I-Usual_Medical_Care'])\n",
        "#-----------------------CAM training model---------------------#\n",
        "base_bert_best=ROOT+'/saved_models_checkpoints/base_bert_6_07-31-02h13m44s'\n",
        "new_model=BertForTokenClassification.from_pretrained(base_bert_best)\n",
        "new_model.to(device)"
      ],
      "metadata": {
        "id": "hhzYD-H3CHbQ"
      },
      "execution_count": null,
      "outputs": []
    },
    {
      "cell_type": "code",
      "source": [
        "bert_eval_loss,bert_labels, bert_predictions,bert_sent_label_predict = valid_loop(new_model, test_dataloader,self_classifcation_report)"
      ],
      "metadata": {
        "id": "04gNC_AkDcwf"
      },
      "execution_count": null,
      "outputs": []
    },
    {
      "cell_type": "code",
      "source": [
        "self_classifcation_report(bert_labels, bert_predictions, mode='lenient')"
      ],
      "metadata": {
        "colab": {
          "base_uri": "https://localhost:8080/"
        },
        "id": "LbZw4MHgLZE4",
        "outputId": "51959e23-b0ac-4d19-d681-16afa02736e5"
      },
      "execution_count": null,
      "outputs": [
        {
          "output_type": "stream",
          "name": "stdout",
          "text": [
            "macro precision:0.8610511493864694\n",
            "\n",
            "macro recall: 0.8639332730792442\n",
            "\n",
            "macro f1:0.8609836114866806\n",
            "\n",
            "micro precision:0.8657894736842106\n",
            "\n",
            "micro recall: 0.8703703703703703\n",
            "\n",
            "micro f1:0.8680738786279683\n",
            "\n"
          ]
        },
        {
          "output_type": "execute_result",
          "data": {
            "text/plain": [
              "defaultdict(<function __main__.self_classifcation_report.<locals>.<lambda>()>,\n",
              "            {'Energy_therapies': defaultdict(<function __main__.self_classifcation_report.<locals>.<lambda>.<locals>.<lambda>()>,\n",
              "                         {'precision': 0.918918918918919,\n",
              "                          'recall': 0.8480725623582767,\n",
              "                          'f1-score': 0.8820754716981132}),\n",
              "             'Usual_Medical_Care': defaultdict(<function __main__.self_classifcation_report.<locals>.<lambda>.<locals>.<lambda>()>,\n",
              "                         {'precision': 0.7886363636363637,\n",
              "                          'recall': 0.8675,\n",
              "                          'f1-score': 0.8261904761904761}),\n",
              "             'Manual_bodybased_therapies': defaultdict(<function __main__.self_classifcation_report.<locals>.<lambda>.<locals>.<lambda>()>,\n",
              "                         {'precision': 0.843010752688172,\n",
              "                          'recall': 0.9355608591885441,\n",
              "                          'f1-score': 0.8868778280542986}),\n",
              "             'CAM_therapies': defaultdict(<function __main__.self_classifcation_report.<locals>.<lambda>.<locals>.<lambda>()>,\n",
              "                         {'precision': 0.8193548387096774,\n",
              "                          'recall': 0.8141025641025641,\n",
              "                          'f1-score': 0.8167202572347266}),\n",
              "             'Mindbody_therapies': defaultdict(<function __main__.self_classifcation_report.<locals>.<lambda>.<locals>.<lambda>()>,\n",
              "                         {'precision': 0.9353348729792148,\n",
              "                          'recall': 0.8544303797468354,\n",
              "                          'f1-score': 0.8930540242557883}),\n",
              "             'macro_precision': 0.8610511493864694,\n",
              "             'macro_recall': 0.8639332730792442,\n",
              "             'macro_f1': 0.8609836114866806,\n",
              "             'micro_precision': 0.8657894736842106,\n",
              "             'micro_recall': 0.8703703703703703,\n",
              "             'micro_f1': 0.8680738786279683})"
            ]
          },
          "metadata": {},
          "execution_count": 33
        }
      ]
    },
    {
      "cell_type": "code",
      "source": [
        "self_classifcation_report(bert_labels, bert_predictions, mode='strict')"
      ],
      "metadata": {
        "colab": {
          "base_uri": "https://localhost:8080/"
        },
        "id": "e5jupKpXL-aE",
        "outputId": "0491ed26-c685-4a35-f9d2-10e6d060b829"
      },
      "execution_count": null,
      "outputs": [
        {
          "output_type": "stream",
          "name": "stdout",
          "text": [
            "macro precision:0.8396221860689564\n",
            "\n",
            "macro recall: 0.8421865430543827\n",
            "\n",
            "macro f1:0.8394401274074952\n",
            "\n",
            "micro precision:0.8421052631578947\n",
            "\n",
            "micro recall: 0.8465608465608465\n",
            "\n",
            "micro f1:0.8443271767810027\n",
            "\n"
          ]
        },
        {
          "output_type": "execute_result",
          "data": {
            "text/plain": [
              "defaultdict(<function __main__.self_classifcation_report.<locals>.<lambda>()>,\n",
              "            {'Energy_therapies': defaultdict(<function __main__.self_classifcation_report.<locals>.<lambda>.<locals>.<lambda>()>,\n",
              "                         {'precision': 0.8992628992628993,\n",
              "                          'recall': 0.8299319727891157,\n",
              "                          'f1-score': 0.8632075471698113}),\n",
              "             'Usual_Medical_Care': defaultdict(<function __main__.self_classifcation_report.<locals>.<lambda>.<locals>.<lambda>()>,\n",
              "                         {'precision': 0.7568181818181818,\n",
              "                          'recall': 0.8325,\n",
              "                          'f1-score': 0.7928571428571429}),\n",
              "             'Manual_bodybased_therapies': defaultdict(<function __main__.self_classifcation_report.<locals>.<lambda>.<locals>.<lambda>()>,\n",
              "                         {'precision': 0.821505376344086,\n",
              "                          'recall': 0.9116945107398569,\n",
              "                          'f1-score': 0.8642533936651584}),\n",
              "             'CAM_therapies': defaultdict(<function __main__.self_classifcation_report.<locals>.<lambda>.<locals>.<lambda>()>,\n",
              "                         {'precision': 0.8129032258064516,\n",
              "                          'recall': 0.8076923076923077,\n",
              "                          'f1-score': 0.8102893890675241}),\n",
              "             'Mindbody_therapies': defaultdict(<function __main__.self_classifcation_report.<locals>.<lambda>.<locals>.<lambda>()>,\n",
              "                         {'precision': 0.9076212471131639,\n",
              "                          'recall': 0.8291139240506329,\n",
              "                          'f1-score': 0.8665931642778391}),\n",
              "             'macro_precision': 0.8396221860689564,\n",
              "             'macro_recall': 0.8421865430543827,\n",
              "             'macro_f1': 0.8394401274074952,\n",
              "             'micro_precision': 0.8421052631578947,\n",
              "             'micro_recall': 0.8465608465608465,\n",
              "             'micro_f1': 0.8443271767810027})"
            ]
          },
          "metadata": {},
          "execution_count": 34
        }
      ]
    },
    {
      "cell_type": "markdown",
      "source": [
        "#clinicalBert"
      ],
      "metadata": {
        "id": "-o3GDd9rDdD2"
      }
    },
    {
      "cell_type": "code",
      "source": [
        "tokenizer = BertTokenizer.from_pretrained(\"emilyalsentzer/Bio_ClinicalBERT\",use_fast=False)\n",
        "tokenizer.add_tokens(['B-CAM_therapies','B-Energy_therapies',\n",
        " 'B-Manual_bodybased_therapies','B-Mindbody_therapies',\n",
        " 'B-Usual_Medical_Care','I-CAM_therapies'\n",
        " 'I-Energy_therapies','I-Manual_bodybased_therapies',\n",
        " 'I-Mindbody_therapies','I-Usual_Medical_Care'])\n",
        "\n",
        "clinicalBert_best_checkpoint=ROOT+'/saved_models_checkpoints/clinical_bert_07-30-22h26m39s'\n",
        "clinicalBert_model= BertForTokenClassification.from_pretrained(clinicalBert_best_checkpoint)\n",
        "clinicalBert_model.to(device)"
      ],
      "metadata": {
        "id": "gsiTBxGJDhe7"
      },
      "execution_count": null,
      "outputs": []
    },
    {
      "cell_type": "code",
      "source": [
        "clinicalBert_eval_loss,clinicalBert_labels, clinicalBert_predictions,clinicalBert_sent_label_predict = valid_loop(clinicalBert_model, test_dataloader,self_classifcation_report)"
      ],
      "metadata": {
        "id": "ReaC5KADITVA"
      },
      "execution_count": null,
      "outputs": []
    },
    {
      "cell_type": "code",
      "source": [
        "self_classifcation_report(clinicalBert_labels, clinicalBert_predictions, mode='strict')"
      ],
      "metadata": {
        "colab": {
          "base_uri": "https://localhost:8080/"
        },
        "id": "qdJskB_4OMX_",
        "outputId": "363bfdbe-897a-43fc-e9e1-210efb417c48"
      },
      "execution_count": null,
      "outputs": [
        {
          "output_type": "stream",
          "name": "stdout",
          "text": [
            "macro_precision:0.8445858324033922\n",
            "\n",
            "macro_recall: 0.863231886836353\n",
            "\n",
            "macro_f1:0.8507115048445039\n",
            "\n",
            "micro_precision:0.8409090909090909\n",
            "\n",
            "micro_recall: 0.857210401891253\n",
            "\n",
            "micro_f1:0.8489815031608523\n",
            "\n"
          ]
        },
        {
          "output_type": "execute_result",
          "data": {
            "text/plain": [
              "defaultdict(<function __main__.self_classifcation_report.<locals>.<lambda>()>,\n",
              "            {'Usual_Medical_Care': defaultdict(<function __main__.self_classifcation_report.<locals>.<lambda>.<locals>.<lambda>()>,\n",
              "                         {'precision': 0.7024482109227872,\n",
              "                          'recall': 0.8776470588235294,\n",
              "                          'f1-score': 0.7803347280334727}),\n",
              "             'Manual_bodybased_therapies': defaultdict(<function __main__.self_classifcation_report.<locals>.<lambda>.<locals>.<lambda>()>,\n",
              "                         {'precision': 0.8767967145790554,\n",
              "                          'recall': 0.9262472885032538,\n",
              "                          'f1-score': 0.9008438818565401}),\n",
              "             'CAM_therapies': defaultdict(<function __main__.self_classifcation_report.<locals>.<lambda>.<locals>.<lambda>()>,\n",
              "                         {'precision': 0.8385416666666666,\n",
              "                          'recall': 0.8846153846153846,\n",
              "                          'f1-score': 0.8609625668449198}),\n",
              "             'Mindbody_therapies': defaultdict(<function __main__.self_classifcation_report.<locals>.<lambda>.<locals>.<lambda>()>,\n",
              "                         {'precision': 0.873015873015873,\n",
              "                          'recall': 0.8118081180811808,\n",
              "                          'f1-score': 0.8413001912045888}),\n",
              "             'Energy_therapies': defaultdict(<function __main__.self_classifcation_report.<locals>.<lambda>.<locals>.<lambda>()>,\n",
              "                         {'precision': 0.9321266968325792,\n",
              "                          'recall': 0.8158415841584158,\n",
              "                          'f1-score': 0.8701161562829988}),\n",
              "             'macro_precision': 0.8445858324033922,\n",
              "             'macro_recall': 0.863231886836353,\n",
              "             'macro_f1': 0.8507115048445039,\n",
              "             'micro_precision': 0.8409090909090909,\n",
              "             'micro_recall': 0.857210401891253,\n",
              "             'micro_f1': 0.8489815031608523})"
            ]
          },
          "metadata": {},
          "execution_count": 63
        }
      ]
    },
    {
      "cell_type": "code",
      "source": [
        "self_classifcation_report(clinicalBert_labels, clinicalBert_predictions, mode='lenient')"
      ],
      "metadata": {
        "colab": {
          "base_uri": "https://localhost:8080/"
        },
        "id": "ntLA_Yy6OQD8",
        "outputId": "71201dea-f6b7-45c5-fec9-a8d14a8374eb"
      },
      "execution_count": null,
      "outputs": [
        {
          "output_type": "stream",
          "name": "stdout",
          "text": [
            "macro_precision:0.8693449319612924\n",
            "\n",
            "macro_recall: 0.8885033212840904\n",
            "\n",
            "macro_f1:0.875635171821418\n",
            "\n",
            "micro_precision:0.864100185528757\n",
            "\n",
            "micro_recall: 0.8808510638297873\n",
            "\n",
            "micro_f1:0.8723952236010303\n",
            "\n"
          ]
        },
        {
          "output_type": "execute_result",
          "data": {
            "text/plain": [
              "defaultdict(<function __main__.self_classifcation_report.<locals>.<lambda>()>,\n",
              "            {'Usual_Medical_Care': defaultdict(<function __main__.self_classifcation_report.<locals>.<lambda>.<locals>.<lambda>()>,\n",
              "                         {'precision': 0.7231638418079096,\n",
              "                          'recall': 0.9035294117647059,\n",
              "                          'f1-score': 0.803347280334728}),\n",
              "             'Manual_bodybased_therapies': defaultdict(<function __main__.self_classifcation_report.<locals>.<lambda>.<locals>.<lambda>()>,\n",
              "                         {'precision': 0.8870636550308009,\n",
              "                          'recall': 0.9370932754880694,\n",
              "                          'f1-score': 0.9113924050632911}),\n",
              "             'CAM_therapies': defaultdict(<function __main__.self_classifcation_report.<locals>.<lambda>.<locals>.<lambda>()>,\n",
              "                         {'precision': 0.875,\n",
              "                          'recall': 0.9230769230769231,\n",
              "                          'f1-score': 0.8983957219251337}),\n",
              "             'Mindbody_therapies': defaultdict(<function __main__.self_classifcation_report.<locals>.<lambda>.<locals>.<lambda>()>,\n",
              "                         {'precision': 0.9067460317460317,\n",
              "                          'recall': 0.8431734317343174,\n",
              "                          'f1-score': 0.8738049713193117}),\n",
              "             'Energy_therapies': defaultdict(<function __main__.self_classifcation_report.<locals>.<lambda>.<locals>.<lambda>()>,\n",
              "                         {'precision': 0.9547511312217195,\n",
              "                          'recall': 0.8356435643564356,\n",
              "                          'f1-score': 0.8912354804646251}),\n",
              "             'macro_precision': 0.8693449319612924,\n",
              "             'macro_recall': 0.8885033212840904,\n",
              "             'macro_f1': 0.875635171821418,\n",
              "             'micro_precision': 0.864100185528757,\n",
              "             'micro_recall': 0.8808510638297873,\n",
              "             'micro_f1': 0.8723952236010303})"
            ]
          },
          "metadata": {},
          "execution_count": 64
        }
      ]
    },
    {
      "cell_type": "markdown",
      "source": [
        "#BioBert"
      ],
      "metadata": {
        "id": "ScU3tMY0D8s_"
      }
    },
    {
      "cell_type": "code",
      "source": [
        "tokenizer = BertTokenizer.from_pretrained(\"pucpr/biobertpt-all\",use_fast=False)\n",
        "tokenizer.add_tokens(['B-CAM_therapies','B-Energy_therapies',\n",
        " 'B-Manual_bodybased_therapies','B-Mindbody_therapies',\n",
        " 'B-Usual_Medical_Care','I-CAM_therapies'\n",
        " 'I-Energy_therapies','I-Manual_bodybased_therapies',\n",
        " 'I-Mindbody_therapies','I-Usual_Medical_Care'])\n",
        "\n",
        "bio_bert_best=ROOT+'/saved_models_checkpoints/bio_bert_epoche10_09-14-23h31m42s'\n",
        "newbio_model= BertForTokenClassification.from_pretrained(bio_bert_best)\n",
        "newbio_model.to(device)\n",
        "#loss,labels, predictions = lenient_valid(newbio_model, test_dataloader)"
      ],
      "metadata": {
        "id": "hC52Is9rEIKT"
      },
      "execution_count": null,
      "outputs": []
    },
    {
      "cell_type": "code",
      "source": [
        "newbio_eval_loss,newbio_labels, newbio_predictions,newbio_sent_label_predict = valid_loop(newbio_model, test_dataloader,self_classifcation_report)"
      ],
      "metadata": {
        "id": "OKrLIEm4IzX7"
      },
      "execution_count": null,
      "outputs": []
    },
    {
      "cell_type": "code",
      "source": [
        "self_classifcation_report(labels, predictions, mode='strict')"
      ],
      "metadata": {
        "colab": {
          "base_uri": "https://localhost:8080/"
        },
        "id": "FVNl5RuBJELB",
        "outputId": "07b9f629-8089-41cb-9752-e042cd9b7abb"
      },
      "execution_count": null,
      "outputs": [
        {
          "output_type": "stream",
          "name": "stdout",
          "text": [
            "macro_precision:0.8725213640259868\n",
            "\n",
            "macro_recall: 0.8196362668843715\n",
            "\n",
            "macro_f1:0.843110151601713\n",
            "\n",
            "micro_precision:0.8864503816793893\n",
            "\n",
            "micro_recall: 0.8113537117903931\n",
            "\n",
            "micro_f1:0.8472412220702235\n",
            "\n"
          ]
        },
        {
          "output_type": "execute_result",
          "data": {
            "text/plain": [
              "defaultdict(<function __main__.self_classifcation_report.<locals>.<lambda>()>,\n",
              "            {'Usual_Medical_Care': defaultdict(<function __main__.self_classifcation_report.<locals>.<lambda>.<locals>.<lambda>()>,\n",
              "                         {'precision': 0.8413461538461539,\n",
              "                          'recall': 0.78125,\n",
              "                          'f1-score': 0.8101851851851852}),\n",
              "             'Manual_bodybased_therapies': defaultdict(<function __main__.self_classifcation_report.<locals>.<lambda>.<locals>.<lambda>()>,\n",
              "                         {'precision': 0.9178082191780822,\n",
              "                          'recall': 0.8682505399568035,\n",
              "                          'f1-score': 0.8923418423973362}),\n",
              "             'CAM_therapies': defaultdict(<function __main__.self_classifcation_report.<locals>.<lambda>.<locals>.<lambda>()>,\n",
              "                         {'precision': 0.7606837606837606,\n",
              "                          'recall': 0.8640776699029126,\n",
              "                          'f1-score': 0.8090909090909091}),\n",
              "             'Mindbody_therapies': defaultdict(<function __main__.self_classifcation_report.<locals>.<lambda>.<locals>.<lambda>()>,\n",
              "                         {'precision': 0.9078947368421053,\n",
              "                          'recall': 0.7740384615384616,\n",
              "                          'f1-score': 0.8356401384083045}),\n",
              "             'Energy_therapies': defaultdict(<function __main__.self_classifcation_report.<locals>.<lambda>.<locals>.<lambda>()>,\n",
              "                         {'precision': 0.9348739495798319,\n",
              "                          'recall': 0.8105646630236795,\n",
              "                          'f1-score': 0.8682926829268293}),\n",
              "             'macro_precision': 0.8725213640259868,\n",
              "             'macro_recall': 0.8196362668843715,\n",
              "             'macro_f1': 0.843110151601713,\n",
              "             'micro_precision': 0.8864503816793893,\n",
              "             'micro_recall': 0.8113537117903931,\n",
              "             'micro_f1': 0.8472412220702235})"
            ]
          },
          "metadata": {},
          "execution_count": 55
        }
      ]
    },
    {
      "cell_type": "code",
      "source": [
        "self_classifcation_report(labels, predictions, mode='lenient')"
      ],
      "metadata": {
        "colab": {
          "base_uri": "https://localhost:8080/"
        },
        "id": "kKwUNdFvJGE4",
        "outputId": "7d7bb007-7d97-46de-eab0-760eb18b7f79"
      },
      "execution_count": null,
      "outputs": [
        {
          "output_type": "stream",
          "name": "stdout",
          "text": [
            "macro_precision:0.9075061281791846\n",
            "\n",
            "macro_recall: 0.8531625163956132\n",
            "\n",
            "macro_f1:0.8772367705717612\n",
            "\n",
            "micro_precision:0.920324427480916\n",
            "\n",
            "micro_recall: 0.8423580786026201\n",
            "\n",
            "micro_f1:0.8796169630642955\n",
            "\n"
          ]
        },
        {
          "output_type": "execute_result",
          "data": {
            "text/plain": [
              "defaultdict(<function __main__.self_classifcation_report.<locals>.<lambda>()>,\n",
              "            {'Usual_Medical_Care': defaultdict(<function __main__.self_classifcation_report.<locals>.<lambda>.<locals>.<lambda>()>,\n",
              "                         {'precision': 0.8846153846153846,\n",
              "                          'recall': 0.8214285714285714,\n",
              "                          'f1-score': 0.8518518518518519}),\n",
              "             'Manual_bodybased_therapies': defaultdict(<function __main__.self_classifcation_report.<locals>.<lambda>.<locals>.<lambda>()>,\n",
              "                         {'precision': 0.9337899543378996,\n",
              "                          'recall': 0.8833693304535637,\n",
              "                          'f1-score': 0.9078801331853495}),\n",
              "             'CAM_therapies': defaultdict(<function __main__.self_classifcation_report.<locals>.<lambda>.<locals>.<lambda>()>,\n",
              "                         {'precision': 0.8076923076923077,\n",
              "                          'recall': 0.9174757281553398,\n",
              "                          'f1-score': 0.8590909090909091}),\n",
              "             'Mindbody_therapies': defaultdict(<function __main__.self_classifcation_report.<locals>.<lambda>.<locals>.<lambda>()>,\n",
              "                         {'precision': 0.9492481203007519,\n",
              "                          'recall': 0.8092948717948718,\n",
              "                          'f1-score': 0.8737024221453288}),\n",
              "             'Energy_therapies': defaultdict(<function __main__.self_classifcation_report.<locals>.<lambda>.<locals>.<lambda>()>,\n",
              "                         {'precision': 0.9621848739495799,\n",
              "                          'recall': 0.8342440801457195,\n",
              "                          'f1-score': 0.8936585365853659}),\n",
              "             'macro_precision': 0.9075061281791846,\n",
              "             'macro_recall': 0.8531625163956132,\n",
              "             'macro_f1': 0.8772367705717612,\n",
              "             'micro_precision': 0.920324427480916,\n",
              "             'micro_recall': 0.8423580786026201,\n",
              "             'micro_f1': 0.8796169630642955})"
            ]
          },
          "metadata": {},
          "execution_count": 56
        }
      ]
    },
    {
      "cell_type": "markdown",
      "source": [
        "#BLUEBERT"
      ],
      "metadata": {
        "id": "HofhpZNUEmBW"
      }
    },
    {
      "cell_type": "code",
      "source": [
        "from transformers import AutoTokenizer, AutoModel\n",
        "BLUEBERT=\"bionlp/bluebert_pubmed_mimic_uncased_L-12_H-768_A-12\"\n",
        "\n",
        "tokenizer = AutoTokenizer.from_pretrained(BLUEBERT,use_fast=False )\n",
        "\n",
        "tokenizer.add_tokens(['B-CAM_therapies','B-Energy_therapies',\n",
        " 'B-Manual_bodybased_therapies','B-Mindbody_therapies',\n",
        " 'B-Usual_Medical_Care','I-CAM_therapies',\n",
        " 'I-Energy_therapies','I-Manual_bodybased_therapies',\n",
        " 'I-Mindbody_therapies','I-Usual_Medical_Care'])\n",
        "\n",
        "blue_bert_best=ROOT+'/saved_models_checkpoints/blue_bert_epoche10_09-14-21h43m21s'\n",
        "newblue_model= BertForTokenClassification.from_pretrained(blue_bert_best)\n",
        "newblue_model.to(device)\n",
        "newblue_eval_loss,newblue_labels, newblue_predictions,newblue_sent_label_predict = valid_loop(newblue_model, test_dataloader,self_classifcation_report)"
      ],
      "metadata": {
        "id": "y2odyxHhEnRV"
      },
      "execution_count": null,
      "outputs": []
    },
    {
      "cell_type": "code",
      "source": [
        "self_classifcation_report(newblue_labels, newblue_predictions, mode='strict')"
      ],
      "metadata": {
        "colab": {
          "base_uri": "https://localhost:8080/"
        },
        "id": "H15XeOx814On",
        "outputId": "694af0b0-6237-4a0d-8d78-69086d10c56b"
      },
      "execution_count": null,
      "outputs": [
        {
          "output_type": "stream",
          "name": "stdout",
          "text": [
            "macro precision:0.8956636221821761\n",
            "\n",
            "macro recall: 0.9005411963958123\n",
            "\n",
            "macro f1:0.8974643047842396\n",
            "\n",
            "micro precision:0.886870783601453\n",
            "\n",
            "micro recall: 0.9042328042328043\n",
            "\n",
            "micro f1:0.8954676447471837\n",
            "\n"
          ]
        },
        {
          "output_type": "execute_result",
          "data": {
            "text/plain": [
              "defaultdict(<function __main__.self_classifcation_report.<locals>.<lambda>()>,\n",
              "            {'Energy_therapies': defaultdict(<function __main__.self_classifcation_report.<locals>.<lambda>.<locals>.<lambda>()>,\n",
              "                         {'precision': 0.8614072494669509,\n",
              "                          'recall': 0.9160997732426304,\n",
              "                          'f1-score': 0.8879120879120879}),\n",
              "             'Usual_Medical_Care': defaultdict(<function __main__.self_classifcation_report.<locals>.<lambda>.<locals>.<lambda>()>,\n",
              "                         {'precision': 0.9036458333333334,\n",
              "                          'recall': 0.8675,\n",
              "                          'f1-score': 0.8852040816326532}),\n",
              "             'Manual_bodybased_therapies': defaultdict(<function __main__.self_classifcation_report.<locals>.<lambda>.<locals>.<lambda>()>,\n",
              "                         {'precision': 0.8931818181818182,\n",
              "                          'recall': 0.9379474940334129,\n",
              "                          'f1-score': 0.9150174621653085}),\n",
              "             'CAM_therapies': defaultdict(<function __main__.self_classifcation_report.<locals>.<lambda>.<locals>.<lambda>()>,\n",
              "                         {'precision': 0.9448275862068966,\n",
              "                          'recall': 0.8782051282051282,\n",
              "                          'f1-score': 0.9102990033222592}),\n",
              "             'Mindbody_therapies': defaultdict(<function __main__.self_classifcation_report.<locals>.<lambda>.<locals>.<lambda>()>,\n",
              "                         {'precision': 0.8752556237218814,\n",
              "                          'recall': 0.9029535864978903,\n",
              "                          'f1-score': 0.8888888888888887}),\n",
              "             'macro_precision': 0.8956636221821761,\n",
              "             'macro_recall': 0.9005411963958123,\n",
              "             'macro_f1': 0.8974643047842396,\n",
              "             'micro_precision': 0.886870783601453,\n",
              "             'micro_recall': 0.9042328042328043,\n",
              "             'micro_f1': 0.8954676447471837})"
            ]
          },
          "metadata": {},
          "execution_count": 25
        }
      ]
    },
    {
      "cell_type": "code",
      "source": [
        "self_classifcation_report(newblue_labels, newblue_predictions, mode='lenient')"
      ],
      "metadata": {
        "colab": {
          "base_uri": "https://localhost:8080/"
        },
        "id": "XZzTsqyP15a-",
        "outputId": "0881859f-75f0-441c-f717-ba58c08146ab"
      },
      "execution_count": null,
      "outputs": [
        {
          "output_type": "stream",
          "name": "stdout",
          "text": [
            "macro precision:0.9119799390429064\n",
            "\n",
            "macro recall: 0.9170020236785612\n",
            "\n",
            "macro f1:0.9138434187741191\n",
            "\n",
            "micro precision:0.9045147898287493\n",
            "\n",
            "micro recall: 0.9222222222222223\n",
            "\n",
            "micro f1:0.9132826827351322\n",
            "\n"
          ]
        },
        {
          "output_type": "execute_result",
          "data": {
            "text/plain": [
              "defaultdict(<function __main__.self_classifcation_report.<locals>.<lambda>()>,\n",
              "            {'Energy_therapies': defaultdict(<function __main__.self_classifcation_report.<locals>.<lambda>.<locals>.<lambda>()>,\n",
              "                         {'precision': 0.8784648187633263,\n",
              "                          'recall': 0.9342403628117913,\n",
              "                          'f1-score': 0.9054945054945055}),\n",
              "             'Usual_Medical_Care': defaultdict(<function __main__.self_classifcation_report.<locals>.<lambda>.<locals>.<lambda>()>,\n",
              "                         {'precision': 0.9296875,\n",
              "                          'recall': 0.8925,\n",
              "                          'f1-score': 0.9107142857142857}),\n",
              "             'Manual_bodybased_therapies': defaultdict(<function __main__.self_classifcation_report.<locals>.<lambda>.<locals>.<lambda>()>,\n",
              "                         {'precision': 0.9022727272727272,\n",
              "                          'recall': 0.9474940334128878,\n",
              "                          'f1-score': 0.9243306169965074}),\n",
              "             'CAM_therapies': defaultdict(<function __main__.self_classifcation_report.<locals>.<lambda>.<locals>.<lambda>()>,\n",
              "                         {'precision': 0.9517241379310345,\n",
              "                          'recall': 0.8846153846153846,\n",
              "                          'f1-score': 0.9169435215946844}),\n",
              "             'Mindbody_therapies': defaultdict(<function __main__.self_classifcation_report.<locals>.<lambda>.<locals>.<lambda>()>,\n",
              "                         {'precision': 0.8977505112474438,\n",
              "                          'recall': 0.9261603375527426,\n",
              "                          'f1-score': 0.9117341640706128}),\n",
              "             'macro_precision': 0.9119799390429064,\n",
              "             'macro_recall': 0.9170020236785612,\n",
              "             'macro_f1': 0.9138434187741191,\n",
              "             'micro_precision': 0.9045147898287493,\n",
              "             'micro_recall': 0.9222222222222223,\n",
              "             'micro_f1': 0.9132826827351322})"
            ]
          },
          "metadata": {},
          "execution_count": 26
        }
      ]
    },
    {
      "cell_type": "markdown",
      "source": [
        "#PunMed Bert"
      ],
      "metadata": {
        "id": "lKVQM717J4ug"
      }
    },
    {
      "cell_type": "code",
      "source": [
        "from transformers import AutoTokenizer, AutoModel\n",
        "PubmedBert=\"cambridgeltl/SapBERT-from-PubMedBERT-fulltext\"\n",
        "tokenizer = AutoTokenizer.from_pretrained(PubmedBert,use_fast=False)\n",
        "\n",
        "tokenizer.add_tokens(['B-CAM_therapies','B-Energy_therapies',\n",
        " 'B-Manual_bodybased_therapies','B-Mindbody_therapies',\n",
        " 'B-Usual_Medical_Care','I-CAM_therapies',\n",
        " 'I-Energy_therapies','I-Manual_bodybased_therapies',\n",
        " 'I-Mindbody_therapies','I-Usual_Medical_Care'])\n",
        "\n",
        "pubmed_bert_best=ROOT+'/saved_models_checkpoints/pubmed_bert_epoche10_09-14-22h04m30s'\n",
        "newpubmed_model= BertForTokenClassification.from_pretrained(pubmed_bert_best)\n",
        "newpubmed_model.to(device)\n",
        "newpubmed_eval_loss,newpubmed_labels, newpubmed_predictions,newpubmed_sent_label_predict = valid_loop(newpubmed_model, test_dataloader,self_classifcation_report)"
      ],
      "metadata": {
        "id": "B3y5rtYvJ7CM"
      },
      "execution_count": null,
      "outputs": []
    },
    {
      "cell_type": "code",
      "source": [
        "self_classifcation_report(newpubmed_labels, newpubmed_predictions, mode='strict')"
      ],
      "metadata": {
        "colab": {
          "base_uri": "https://localhost:8080/"
        },
        "id": "vMfKmw2n1_-U",
        "outputId": "299635ff-727b-4f34-9572-e5feb4d2d704"
      },
      "execution_count": null,
      "outputs": [
        {
          "output_type": "stream",
          "name": "stdout",
          "text": [
            "macro precision:0.7948666713984613\n",
            "\n",
            "macro recall: 0.7628472106376634\n",
            "\n",
            "macro f1:0.777522201880424\n",
            "\n",
            "micro precision:0.8\n",
            "\n",
            "micro recall: 0.7566826593557231\n",
            "\n",
            "micro f1:0.7777386403663261\n",
            "\n"
          ]
        },
        {
          "output_type": "execute_result",
          "data": {
            "text/plain": [
              "defaultdict(<function __main__.self_classifcation_report.<locals>.<lambda>()>,\n",
              "            {'Energy_therapies': defaultdict(<function __main__.self_classifcation_report.<locals>.<lambda>.<locals>.<lambda>()>,\n",
              "                         {'precision': 0.8126888217522659,\n",
              "                          'recall': 0.8276923076923077,\n",
              "                          'f1-score': 0.8201219512195123}),\n",
              "             'Usual_Medical_Care': defaultdict(<function __main__.self_classifcation_report.<locals>.<lambda>.<locals>.<lambda>()>,\n",
              "                         {'precision': 0.7752808988764045,\n",
              "                          'recall': 0.696969696969697,\n",
              "                          'f1-score': 0.7340425531914893}),\n",
              "             'Manual_bodybased_therapies': defaultdict(<function __main__.self_classifcation_report.<locals>.<lambda>.<locals>.<lambda>()>,\n",
              "                         {'precision': 0.7867132867132867,\n",
              "                          'recall': 0.7950530035335689,\n",
              "                          'f1-score': 0.7908611599297013}),\n",
              "             'CAM_therapies': defaultdict(<function __main__.self_classifcation_report.<locals>.<lambda>.<locals>.<lambda>()>,\n",
              "                         {'precision': 0.7727272727272727,\n",
              "                          'recall': 0.7846153846153846,\n",
              "                          'f1-score': 0.7786259541984732}),\n",
              "             'Mindbody_therapies': defaultdict(<function __main__.self_classifcation_report.<locals>.<lambda>.<locals>.<lambda>()>,\n",
              "                         {'precision': 0.8269230769230769,\n",
              "                          'recall': 0.7099056603773585,\n",
              "                          'f1-score': 0.7639593908629442}),\n",
              "             'macro_precision': 0.7948666713984613,\n",
              "             'macro_recall': 0.7628472106376634,\n",
              "             'macro_f1': 0.777522201880424,\n",
              "             'micro_precision': 0.8,\n",
              "             'micro_recall': 0.7566826593557231,\n",
              "             'micro_f1': 0.7777386403663261})"
            ]
          },
          "metadata": {},
          "execution_count": 28
        }
      ]
    },
    {
      "cell_type": "code",
      "source": [
        "self_classifcation_report(newpubmed_labels, newpubmed_predictions, mode='lenient')"
      ],
      "metadata": {
        "colab": {
          "base_uri": "https://localhost:8080/"
        },
        "id": "Qlkx5qTX2BHy",
        "outputId": "4c214466-c189-47d2-8601-58e8113e50b1"
      },
      "execution_count": null,
      "outputs": [
        {
          "output_type": "stream",
          "name": "stdout",
          "text": [
            "macro precision:0.8576909031880348\n",
            "\n",
            "macro recall: 0.8235743374689971\n",
            "\n",
            "macro f1:0.8392052823258588\n",
            "\n",
            "micro precision:0.8630434782608696\n",
            "\n",
            "micro recall: 0.8163125428375599\n",
            "\n",
            "micro f1:0.8390278266995421\n",
            "\n"
          ]
        },
        {
          "output_type": "execute_result",
          "data": {
            "text/plain": [
              "defaultdict(<function __main__.self_classifcation_report.<locals>.<lambda>()>,\n",
              "            {'Energy_therapies': defaultdict(<function __main__.self_classifcation_report.<locals>.<lambda>.<locals>.<lambda>()>,\n",
              "                         {'precision': 0.879154078549849,\n",
              "                          'recall': 0.8953846153846153,\n",
              "                          'f1-score': 0.8871951219512195}),\n",
              "             'Usual_Medical_Care': defaultdict(<function __main__.self_classifcation_report.<locals>.<lambda>.<locals>.<lambda>()>,\n",
              "                         {'precision': 0.8277153558052435,\n",
              "                          'recall': 0.7441077441077442,\n",
              "                          'f1-score': 0.7836879432624114}),\n",
              "             'Manual_bodybased_therapies': defaultdict(<function __main__.self_classifcation_report.<locals>.<lambda>.<locals>.<lambda>()>,\n",
              "                         {'precision': 0.8636363636363636,\n",
              "                          'recall': 0.872791519434629,\n",
              "                          'f1-score': 0.8681898066783831}),\n",
              "             'CAM_therapies': defaultdict(<function __main__.self_classifcation_report.<locals>.<lambda>.<locals>.<lambda>()>,\n",
              "                         {'precision': 0.8333333333333334,\n",
              "                          'recall': 0.8461538461538461,\n",
              "                          'f1-score': 0.8396946564885497}),\n",
              "             'Mindbody_therapies': defaultdict(<function __main__.self_classifcation_report.<locals>.<lambda>.<locals>.<lambda>()>,\n",
              "                         {'precision': 0.8846153846153846,\n",
              "                          'recall': 0.7594339622641509,\n",
              "                          'f1-score': 0.8172588832487309}),\n",
              "             'macro_precision': 0.8576909031880348,\n",
              "             'macro_recall': 0.8235743374689971,\n",
              "             'macro_f1': 0.8392052823258588,\n",
              "             'micro_precision': 0.8630434782608696,\n",
              "             'micro_recall': 0.8163125428375599,\n",
              "             'micro_f1': 0.8390278266995421})"
            ]
          },
          "metadata": {},
          "execution_count": 29
        }
      ]
    }
  ]
}